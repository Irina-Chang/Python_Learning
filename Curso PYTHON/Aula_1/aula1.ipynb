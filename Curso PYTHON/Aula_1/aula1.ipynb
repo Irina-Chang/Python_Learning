{
 "cells": [
  {
   "cell_type": "markdown",
   "id": "70436406-84b6-44aa-9255-b21c9c173e9e",
   "metadata": {},
   "source": [
    " ### Primeira aula de Python"
   ]
  },
  {
   "cell_type": "code",
   "execution_count": 2,
   "id": "8d5050a8-09b1-4c3a-b32f-f2d0104fb950",
   "metadata": {},
   "outputs": [
    {
     "name": "stdout",
     "output_type": "stream",
     "text": [
      "0\n",
      "1\n",
      "2\n",
      "3\n",
      "4\n",
      "5\n",
      "6\n",
      "7\n",
      "8\n",
      "9\n"
     ]
    }
   ],
   "source": [
    "for numero in range(10):\n",
    "    print(numero)"
   ]
  },
  {
   "cell_type": "markdown",
   "id": "a00c9b53-007a-4fbc-b884-a2b771b02dea",
   "metadata": {},
   "source": [
    "## Comando Print()"
   ]
  },
  {
   "cell_type": "code",
   "execution_count": 7,
   "id": "c3a7240f-1cb1-4092-9ba4-ead101bdd49b",
   "metadata": {},
   "outputs": [
    {
     "name": "stdout",
     "output_type": "stream",
     "text": [
      "HELLO, WORLD!\n",
      "Imersão Semana do Python\n",
      "Eu vou ser um especialista em Python\n"
     ]
    }
   ],
   "source": [
    "print(\"HELLO, WORLD!\")\n",
    "print(\"Imersão Semana do Python\")\n",
    "print(\"Eu vou ser um especialista em Python\")"
   ]
  },
  {
   "cell_type": "markdown",
   "id": "9a98d053-ccfa-4b92-a845-dba19efba020",
   "metadata": {},
   "source": [
    "## Entrada de Dados do Usuário - input()"
   ]
  },
  {
   "cell_type": "code",
   "execution_count": 8,
   "id": "61271ca4-ccad-49ac-ab4b-49fd743815a0",
   "metadata": {},
   "outputs": [
    {
     "name": "stdin",
     "output_type": "stream",
     "text": [
      "Digite a descrição do projeto:  Semana de imersão Python\n",
      "Digite a quantidade de horas:  250 h\n"
     ]
    },
    {
     "data": {
      "text/plain": [
       "'250 h'"
      ]
     },
     "execution_count": 8,
     "metadata": {},
     "output_type": "execute_result"
    }
   ],
   "source": [
    "input(\"Digite a descrição do projeto: \")\n",
    "input(\"Digite a quantidade de horas: \")\n"
   ]
  },
  {
   "cell_type": "markdown",
   "id": "5b3891c0-4977-4981-844b-e0487235776c",
   "metadata": {},
   "source": [
    "## Armazenar dados dentro de uma variável\n",
    " - Começar com números\n",
    " - Não por espaços no nome"
   ]
  },
  {
   "cell_type": "code",
   "execution_count": 12,
   "id": "5534b045-70ff-40a3-a46a-8d0792dd9432",
   "metadata": {},
   "outputs": [],
   "source": [
    "projeto = \"Semana do Python na Prática\""
   ]
  },
  {
   "cell_type": "code",
   "execution_count": 13,
   "id": "868c9029-e00d-4f55-a48f-5b2f9ed59adc",
   "metadata": {},
   "outputs": [
    {
     "name": "stdout",
     "output_type": "stream",
     "text": [
      "Semana do Python na Prática\n"
     ]
    }
   ],
   "source": [
    "print(projeto)"
   ]
  },
  {
   "cell_type": "code",
   "execution_count": 14,
   "id": "fbc7bb5a-dcdd-46f4-b29d-7ada5de4003c",
   "metadata": {},
   "outputs": [
    {
     "name": "stdin",
     "output_type": "stream",
     "text": [
      "Digite a descrição do projeto:  Semana de Desenvolvimento Python\n"
     ]
    }
   ],
   "source": [
    "descricao_projeto = input(\"Digite a descrição do projeto: \")"
   ]
  },
  {
   "cell_type": "code",
   "execution_count": 15,
   "id": "5f1bae56-3919-4cc1-a7fb-04634a3ce6d4",
   "metadata": {},
   "outputs": [
    {
     "name": "stdout",
     "output_type": "stream",
     "text": [
      "Semana de Desenvolvimento Python\n"
     ]
    }
   ],
   "source": [
    "print(descricao_projeto)"
   ]
  },
  {
   "cell_type": "markdown",
   "id": "9009b077-7cf8-4395-99d5-53bede2ae338",
   "metadata": {},
   "source": [
    "### Iniciando o projeto"
   ]
  },
  {
   "cell_type": "code",
   "execution_count": 21,
   "id": "c248f90b-fb6c-41d3-b9fc-0e68634c3089",
   "metadata": {},
   "outputs": [
    {
     "name": "stdin",
     "output_type": "stream",
     "text": [
      "Digite a descrição do projeto:  Semana Do Python\n",
      "Insira a quantidade de horas:  10\n",
      "Insira o valor da hora trabalhada:  300\n",
      "Digite o prazo estimado:  2 meses\n"
     ]
    }
   ],
   "source": [
    "descricao_projeto = input(\"Digite a descrição do projeto: \")\n",
    "horas_previstas = input(\"Insira a quantidade de horas: \")\n",
    "valor_hora = input(\"Insira o valor da hora trabalhada: \")\n",
    "prazo = input(\"Digite o prazo estimado: \")"
   ]
  },
  {
   "cell_type": "markdown",
   "id": "0be638da-21fc-4e0e-b7aa-00084a6ae4fa",
   "metadata": {},
   "source": [
    "## Realizando Cálculos\n",
    "Valor total = quantidades de horas x valor da hora"
   ]
  },
  {
   "cell_type": "code",
   "execution_count": 18,
   "id": "247ee4fb-4f03-474e-9382-c35116690550",
   "metadata": {},
   "outputs": [
    {
     "name": "stdout",
     "output_type": "stream",
     "text": [
      "100\n"
     ]
    }
   ],
   "source": [
    "total = 10*10\n",
    "print(total)"
   ]
  },
  {
   "cell_type": "markdown",
   "id": "b3b48a64-1630-4f23-ac5f-b73870f4342c",
   "metadata": {},
   "source": [
    "### Tipos de dados - Como usar o type()\n",
    "- texto -> str\n",
    "- numéricos -> int\n",
    "\n",
    "  Usa-se o type(variavel) para identificar o tipo de um dado.\n",
    "\n",
    "  #### Transformando de str pra int ou vice e versa:\n",
    "  pode simplesmente inserir o dado entre parênteses, com o int antes, pra transformar str em inteiro,\n",
    "  ou colocar o str antes do parênteses para transformar em string"
   ]
  },
  {
   "cell_type": "code",
   "execution_count": 22,
   "id": "d819d942-8adf-43a0-a7ed-fc34320332d2",
   "metadata": {},
   "outputs": [
    {
     "data": {
      "text/plain": [
       "3000"
      ]
     },
     "execution_count": 22,
     "metadata": {},
     "output_type": "execute_result"
    }
   ],
   "source": [
    "int(horas_previstas)* int(valor_hora)"
   ]
  },
  {
   "cell_type": "code",
   "execution_count": 24,
   "id": "a6c149ac-0df9-4ada-b890-854f59602712",
   "metadata": {},
   "outputs": [
    {
     "name": "stdout",
     "output_type": "stream",
     "text": [
      "3000\n"
     ]
    }
   ],
   "source": [
    "valor_total = int(horas_previstas)* int(valor_hora)\n",
    "print (valor_total)"
   ]
  },
  {
   "cell_type": "markdown",
   "id": "1923c023-4338-48c9-bf24-7b5948e28c83",
   "metadata": {},
   "source": [
    "# Gerando o orçamento"
   ]
  },
  {
   "cell_type": "code",
   "execution_count": 25,
   "id": "01499e00-d92a-4530-92bb-96a49bfb5e20",
   "metadata": {},
   "outputs": [
    {
     "name": "stdout",
     "output_type": "stream",
     "text": [
      "Collecting fpdf\n",
      "  Downloading fpdf-1.7.2.tar.gz (39 kB)\n",
      "  Installing build dependencies: started\n",
      "  Installing build dependencies: finished with status 'done'\n",
      "  Getting requirements to build wheel: started\n",
      "  Getting requirements to build wheel: finished with status 'done'\n",
      "  Preparing metadata (pyproject.toml): started\n",
      "  Preparing metadata (pyproject.toml): finished with status 'done'\n",
      "Building wheels for collected packages: fpdf\n",
      "  Building wheel for fpdf (pyproject.toml): started\n",
      "  Building wheel for fpdf (pyproject.toml): finished with status 'done'\n",
      "  Created wheel for fpdf: filename=fpdf-1.7.2-py2.py3-none-any.whl size=40712 sha256=7c149da528d8e5c365fdce71c170123c6559f3a8a3fc785de4aa942017a49c01\n",
      "  Stored in directory: c:\\users\\ninax\\appdata\\local\\pip\\cache\\wheels\\65\\4f\\66\\bbda9866da446a72e206d6484cd97381cbc7859a7068541c36\n",
      "Successfully built fpdf\n",
      "Installing collected packages: fpdf\n",
      "Successfully installed fpdf-1.7.2\n"
     ]
    }
   ],
   "source": [
    "!pip install fpdf"
   ]
  },
  {
   "cell_type": "code",
   "execution_count": 26,
   "id": "68a99bec-2caf-43ba-9c4e-18fb2293675e",
   "metadata": {},
   "outputs": [],
   "source": [
    "from fpdf import FPDF"
   ]
  },
  {
   "cell_type": "code",
   "execution_count": 33,
   "id": "9ce22c44-fe4f-4c54-adee-069dcc20b3d9",
   "metadata": {},
   "outputs": [
    {
     "name": "stdout",
     "output_type": "stream",
     "text": [
      "Orçamento gerado com sucesso\n"
     ]
    }
   ],
   "source": [
    "# criando uma variável\n",
    "pdf = FPDF()\n",
    "\n",
    "pdf.add_page()\n",
    "pdf.set_font(\"Arial\")\n",
    "pdf.image(\"template.png\", x=0, y=0)\n",
    "\n",
    "pdf.text(115,145, descricao_projeto)\n",
    "pdf.text(115,160, horas_previstas)\n",
    "pdf.text(115,175, valor_hora)\n",
    "pdf.text(115,190, prazo)\n",
    "pdf.text(115,205, str(valor_total))\n",
    "\n",
    "pdf.output(\"Orçamento.pdf\")\n",
    "\n",
    "print(\"Orçamento gerado com sucesso\")"
   ]
  },
  {
   "cell_type": "code",
   "execution_count": 29,
   "id": "d35439cf-e33e-47ec-821a-8cfda527627e",
   "metadata": {},
   "outputs": [
    {
     "data": {
      "text/plain": [
       "int"
      ]
     },
     "execution_count": 29,
     "metadata": {},
     "output_type": "execute_result"
    }
   ],
   "source": [
    "type(valor_total)"
   ]
  },
  {
   "cell_type": "markdown",
   "id": "76038542-6806-443f-b7b1-266af55d4d68",
   "metadata": {},
   "source": [
    "#### Ao encerrar e iniciar o arquivo, deve-se rodar cada célula, uma por vez."
   ]
  },
  {
   "cell_type": "code",
   "execution_count": null,
   "id": "e712b9bb-237e-4f7a-b5b3-12c388cee150",
   "metadata": {},
   "outputs": [],
   "source": []
  }
 ],
 "metadata": {
  "kernelspec": {
   "display_name": "Python 3 (ipykernel)",
   "language": "python",
   "name": "python3"
  },
  "language_info": {
   "codemirror_mode": {
    "name": "ipython",
    "version": 3
   },
   "file_extension": ".py",
   "mimetype": "text/x-python",
   "name": "python",
   "nbconvert_exporter": "python",
   "pygments_lexer": "ipython3",
   "version": "3.11.4"
  }
 },
 "nbformat": 4,
 "nbformat_minor": 5
}
