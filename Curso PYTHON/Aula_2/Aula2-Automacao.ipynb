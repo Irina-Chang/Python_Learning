{
 "cells": [
  {
   "cell_type": "markdown",
   "id": "283b3635-eb8c-46db-a8a1-a0ab68986ec1",
   "metadata": {},
   "source": [
    "# Automação de Processos com Python"
   ]
  },
  {
   "cell_type": "markdown",
   "id": "a97a1a78-6b7d-471b-a189-1365193d6d3b",
   "metadata": {},
   "source": [
    "## Problema a ser resolvido - Passo a Passo\n",
    "- Buscar automaticamente os dados das ações\n",
    "- Gerar as análises de forma automática\n",
    "- Enviar um email automaticamente para nosso gestor"
   ]
  },
  {
   "cell_type": "markdown",
   "id": "81a41539-8b75-4b9d-afe9-5f513f267978",
   "metadata": {},
   "source": [
    "### Passo 1 - Buscar automaticamente os dados das ações"
   ]
  },
  {
   "cell_type": "code",
   "execution_count": 1,
   "id": "ee597ec6-1556-45a3-aa68-470d0515a21b",
   "metadata": {},
   "outputs": [
    {
     "name": "stdout",
     "output_type": "stream",
     "text": [
      "Collecting yfinance\n",
      "  Downloading yfinance-0.2.36-py2.py3-none-any.whl.metadata (11 kB)\n",
      "Collecting pandas>=1.3.0 (from yfinance)\n",
      "  Downloading pandas-2.2.0-cp311-cp311-win_amd64.whl.metadata (19 kB)\n",
      "Collecting numpy>=1.16.5 (from yfinance)\n",
      "  Downloading numpy-1.26.3-cp311-cp311-win_amd64.whl.metadata (61 kB)\n",
      "     ---------------------------------------- 0.0/61.2 kB ? eta -:--:--\n",
      "     --------------------------------- ------ 51.2/61.2 kB 2.6 MB/s eta 0:00:01\n",
      "     -------------------------------------- 61.2/61.2 kB 467.6 kB/s eta 0:00:00\n",
      "Requirement already satisfied: requests>=2.31 in c:\\python311\\lib\\site-packages (from yfinance) (2.31.0)\n",
      "Collecting multitasking>=0.0.7 (from yfinance)\n",
      "  Downloading multitasking-0.0.11-py3-none-any.whl (8.5 kB)\n",
      "Collecting lxml>=4.9.1 (from yfinance)\n",
      "  Downloading lxml-5.1.0-cp311-cp311-win_amd64.whl.metadata (3.6 kB)\n",
      "Collecting appdirs>=1.4.4 (from yfinance)\n",
      "  Downloading appdirs-1.4.4-py2.py3-none-any.whl (9.6 kB)\n",
      "Collecting pytz>=2022.5 (from yfinance)\n",
      "  Downloading pytz-2023.3.post1-py2.py3-none-any.whl.metadata (22 kB)\n",
      "Collecting frozendict>=2.3.4 (from yfinance)\n",
      "  Downloading frozendict-2.4.0.tar.gz (314 kB)\n",
      "     ---------------------------------------- 0.0/314.6 kB ? eta -:--:--\n",
      "     --------------- ------------------------ 122.9/314.6 kB ? eta -:--:--\n",
      "     -------------------------------------  307.2/314.6 kB 3.8 MB/s eta 0:00:01\n",
      "     -------------------------------------  307.2/314.6 kB 3.8 MB/s eta 0:00:01\n",
      "     -------------------------------------- 314.6/314.6 kB 1.8 MB/s eta 0:00:00\n",
      "  Installing build dependencies: started\n",
      "  Installing build dependencies: finished with status 'done'\n",
      "  Getting requirements to build wheel: started\n",
      "  Getting requirements to build wheel: finished with status 'done'\n",
      "  Preparing metadata (pyproject.toml): started\n",
      "  Preparing metadata (pyproject.toml): finished with status 'done'\n",
      "Collecting peewee>=3.16.2 (from yfinance)\n",
      "  Downloading peewee-3.17.0.tar.gz (2.9 MB)\n",
      "     ---------------------------------------- 0.0/2.9 MB ? eta -:--:--\n",
      "     -- ------------------------------------- 0.2/2.9 MB 3.9 MB/s eta 0:00:01\n",
      "     ------ --------------------------------- 0.5/2.9 MB 5.7 MB/s eta 0:00:01\n",
      "     --------- ------------------------------ 0.7/2.9 MB 4.7 MB/s eta 0:00:01\n",
      "     ------------- -------------------------- 1.0/2.9 MB 5.3 MB/s eta 0:00:01\n",
      "     --------------- ------------------------ 1.1/2.9 MB 5.2 MB/s eta 0:00:01\n",
      "     -------------------- ------------------- 1.5/2.9 MB 5.3 MB/s eta 0:00:01\n",
      "     ------------------------ --------------- 1.8/2.9 MB 5.5 MB/s eta 0:00:01\n",
      "     ---------------------------- ----------- 2.1/2.9 MB 5.7 MB/s eta 0:00:01\n",
      "     -------------------------------- ------- 2.4/2.9 MB 5.7 MB/s eta 0:00:01\n",
      "     ------------------------------------ --- 2.7/2.9 MB 5.9 MB/s eta 0:00:01\n",
      "     ---------------------------------------  2.9/2.9 MB 6.0 MB/s eta 0:00:01\n",
      "     ---------------------------------------  2.9/2.9 MB 6.0 MB/s eta 0:00:01\n",
      "     ---------------------------------------  2.9/2.9 MB 6.0 MB/s eta 0:00:01\n",
      "     ---------------------------------------  2.9/2.9 MB 6.0 MB/s eta 0:00:01\n",
      "     ---------------------------------------  2.9/2.9 MB 6.0 MB/s eta 0:00:01\n",
      "     ---------------------------------------  2.9/2.9 MB 6.0 MB/s eta 0:00:01\n",
      "     ---------------------------------------  2.9/2.9 MB 6.0 MB/s eta 0:00:01\n",
      "     ---------------------------------------  2.9/2.9 MB 6.0 MB/s eta 0:00:01\n",
      "     ---------------------------------------- 2.9/2.9 MB 3.4 MB/s eta 0:00:00\n",
      "  Installing build dependencies: started\n",
      "  Installing build dependencies: finished with status 'done'\n",
      "  Getting requirements to build wheel: started\n",
      "  Getting requirements to build wheel: finished with status 'done'\n",
      "  Preparing metadata (pyproject.toml): started\n",
      "  Preparing metadata (pyproject.toml): finished with status 'done'\n",
      "Requirement already satisfied: beautifulsoup4>=4.11.1 in c:\\python311\\lib\\site-packages (from yfinance) (4.12.3)\n",
      "Collecting html5lib>=1.1 (from yfinance)\n",
      "  Downloading html5lib-1.1-py2.py3-none-any.whl (112 kB)\n",
      "     ---------------------------------------- 0.0/112.2 kB ? eta -:--:--\n",
      "     ---------------------------------- --- 102.4/112.2 kB 6.1 MB/s eta 0:00:01\n",
      "     ---------------------------------- --- 102.4/112.2 kB 6.1 MB/s eta 0:00:01\n",
      "     ---------------------------------- --- 102.4/112.2 kB 6.1 MB/s eta 0:00:01\n",
      "     ---------------------------------- --- 102.4/112.2 kB 6.1 MB/s eta 0:00:01\n",
      "     ---------------------------------- --- 102.4/112.2 kB 6.1 MB/s eta 0:00:01\n",
      "     ---------------------------------- --- 102.4/112.2 kB 6.1 MB/s eta 0:00:01\n",
      "     ---------------------------------- --- 102.4/112.2 kB 6.1 MB/s eta 0:00:01\n",
      "     ------------------------------------ 112.2/112.2 kB 297.2 kB/s eta 0:00:00\n",
      "Requirement already satisfied: soupsieve>1.2 in c:\\python311\\lib\\site-packages (from beautifulsoup4>=4.11.1->yfinance) (2.5)\n",
      "Requirement already satisfied: six>=1.9 in c:\\python311\\lib\\site-packages (from html5lib>=1.1->yfinance) (1.16.0)\n",
      "Requirement already satisfied: webencodings in c:\\python311\\lib\\site-packages (from html5lib>=1.1->yfinance) (0.5.1)\n",
      "Requirement already satisfied: python-dateutil>=2.8.2 in c:\\python311\\lib\\site-packages (from pandas>=1.3.0->yfinance) (2.8.2)\n",
      "Collecting tzdata>=2022.7 (from pandas>=1.3.0->yfinance)\n",
      "  Downloading tzdata-2023.4-py2.py3-none-any.whl.metadata (1.4 kB)\n",
      "Requirement already satisfied: charset-normalizer<4,>=2 in c:\\python311\\lib\\site-packages (from requests>=2.31->yfinance) (3.3.2)\n",
      "Requirement already satisfied: idna<4,>=2.5 in c:\\python311\\lib\\site-packages (from requests>=2.31->yfinance) (3.6)\n",
      "Requirement already satisfied: urllib3<3,>=1.21.1 in c:\\python311\\lib\\site-packages (from requests>=2.31->yfinance) (2.1.0)\n",
      "Requirement already satisfied: certifi>=2017.4.17 in c:\\python311\\lib\\site-packages (from requests>=2.31->yfinance) (2023.11.17)\n",
      "Downloading yfinance-0.2.36-py2.py3-none-any.whl (72 kB)\n",
      "   ---------------------------------------- 0.0/72.4 kB ? eta -:--:--\n",
      "   ---------------------------------------  71.7/72.4 kB ? eta -:--:--\n",
      "   ---------------------------------------  71.7/72.4 kB ? eta -:--:--\n",
      "   ---------------------------------------  71.7/72.4 kB ? eta -:--:--\n",
      "   ---------------------------------------  71.7/72.4 kB ? eta -:--:--\n",
      "   ---------------------------------------- 72.4/72.4 kB 330.6 kB/s eta 0:00:00\n",
      "Downloading lxml-5.1.0-cp311-cp311-win_amd64.whl (3.9 MB)\n",
      "   ---------------------------------------- 0.0/3.9 MB ? eta -:--:--\n",
      "   --- ------------------------------------ 0.3/3.9 MB 6.7 MB/s eta 0:00:01\n",
      "   ------ --------------------------------- 0.6/3.9 MB 7.6 MB/s eta 0:00:01\n",
      "   --------- ------------------------------ 0.9/3.9 MB 7.4 MB/s eta 0:00:01\n",
      "   ------------ --------------------------- 1.2/3.9 MB 7.0 MB/s eta 0:00:01\n",
      "   ---------------- ----------------------- 1.6/3.9 MB 7.1 MB/s eta 0:00:01\n",
      "   ------------------ --------------------- 1.9/3.9 MB 7.0 MB/s eta 0:00:01\n",
      "   ---------------------- ----------------- 2.2/3.9 MB 7.3 MB/s eta 0:00:01\n",
      "   ------------------------- -------------- 2.5/3.9 MB 7.2 MB/s eta 0:00:01\n",
      "   ----------------------------- ---------- 2.9/3.9 MB 7.1 MB/s eta 0:00:01\n",
      "   --------------------------------- ------ 3.3/3.9 MB 7.2 MB/s eta 0:00:01\n",
      "   ------------------------------------ --- 3.6/3.9 MB 7.3 MB/s eta 0:00:01\n",
      "   ---------------------------------------  3.9/3.9 MB 7.1 MB/s eta 0:00:01\n",
      "   ---------------------------------------  3.9/3.9 MB 7.1 MB/s eta 0:00:01\n",
      "   ---------------------------------------  3.9/3.9 MB 7.1 MB/s eta 0:00:01\n",
      "   ---------------------------------------  3.9/3.9 MB 7.1 MB/s eta 0:00:01\n",
      "   ---------------------------------------  3.9/3.9 MB 7.1 MB/s eta 0:00:01\n",
      "   ---------------------------------------  3.9/3.9 MB 7.1 MB/s eta 0:00:01\n",
      "   ---------------------------------------  3.9/3.9 MB 7.1 MB/s eta 0:00:01\n",
      "   ---------------------------------------  3.9/3.9 MB 7.1 MB/s eta 0:00:01\n",
      "   ---------------------------------------  3.9/3.9 MB 7.1 MB/s eta 0:00:01\n",
      "   ---------------------------------------- 3.9/3.9 MB 4.2 MB/s eta 0:00:00\n",
      "Downloading numpy-1.26.3-cp311-cp311-win_amd64.whl (15.8 MB)\n",
      "   ---------------------------------------- 0.0/15.8 MB ? eta -:--:--\n",
      "    --------------------------------------- 0.4/15.8 MB 7.4 MB/s eta 0:00:03\n",
      "   - -------------------------------------- 0.6/15.8 MB 8.0 MB/s eta 0:00:02\n",
      "   -- ------------------------------------- 1.0/15.8 MB 8.0 MB/s eta 0:00:02\n",
      "   --- ------------------------------------ 1.4/15.8 MB 7.9 MB/s eta 0:00:02\n",
      "   ---- ----------------------------------- 1.7/15.8 MB 7.8 MB/s eta 0:00:02\n",
      "   ----- ---------------------------------- 2.1/15.8 MB 7.8 MB/s eta 0:00:02\n",
      "   ----- ---------------------------------- 2.4/15.8 MB 7.5 MB/s eta 0:00:02\n",
      "   ------ --------------------------------- 2.7/15.8 MB 7.5 MB/s eta 0:00:02\n",
      "   ------- -------------------------------- 3.1/15.8 MB 7.8 MB/s eta 0:00:02\n",
      "   -------- ------------------------------- 3.4/15.8 MB 7.8 MB/s eta 0:00:02\n",
      "   --------- ------------------------------ 3.8/15.8 MB 7.8 MB/s eta 0:00:02\n",
      "   ---------- ----------------------------- 4.1/15.8 MB 7.6 MB/s eta 0:00:02\n",
      "   ----------- ---------------------------- 4.4/15.8 MB 7.7 MB/s eta 0:00:02\n",
      "   ------------ --------------------------- 4.8/15.8 MB 7.6 MB/s eta 0:00:02\n",
      "   ------------ --------------------------- 5.1/15.8 MB 7.6 MB/s eta 0:00:02\n",
      "   ------------- -------------------------- 5.5/15.8 MB 7.7 MB/s eta 0:00:02\n",
      "   -------------- ------------------------- 5.9/15.8 MB 7.7 MB/s eta 0:00:02\n",
      "   --------------- ------------------------ 6.2/15.8 MB 7.8 MB/s eta 0:00:02\n",
      "   ---------------- ----------------------- 6.6/15.8 MB 7.6 MB/s eta 0:00:02\n",
      "   ----------------- ---------------------- 7.0/15.8 MB 7.7 MB/s eta 0:00:02\n",
      "   ------------------ --------------------- 7.3/15.8 MB 7.7 MB/s eta 0:00:02\n",
      "   ------------------- -------------------- 7.6/15.8 MB 7.7 MB/s eta 0:00:02\n",
      "   ------------------- -------------------- 7.9/15.8 MB 7.7 MB/s eta 0:00:02\n",
      "   -------------------- ------------------- 8.2/15.8 MB 7.6 MB/s eta 0:00:01\n",
      "   --------------------- ------------------ 8.6/15.8 MB 7.6 MB/s eta 0:00:01\n",
      "   ---------------------- ----------------- 8.9/15.8 MB 7.7 MB/s eta 0:00:01\n",
      "   ----------------------- ---------------- 9.2/15.8 MB 7.6 MB/s eta 0:00:01\n",
      "   ------------------------ --------------- 9.6/15.8 MB 7.6 MB/s eta 0:00:01\n",
      "   ------------------------- -------------- 9.9/15.8 MB 7.6 MB/s eta 0:00:01\n",
      "   ------------------------- -------------- 10.2/15.8 MB 7.6 MB/s eta 0:00:01\n",
      "   -------------------------- ------------- 10.5/15.8 MB 7.5 MB/s eta 0:00:01\n",
      "   --------------------------- ------------ 10.9/15.8 MB 7.6 MB/s eta 0:00:01\n",
      "   ---------------------------- ----------- 11.2/15.8 MB 7.6 MB/s eta 0:00:01\n",
      "   ----------------------------- ---------- 11.6/15.8 MB 7.6 MB/s eta 0:00:01\n",
      "   ------------------------------ --------- 11.9/15.8 MB 7.6 MB/s eta 0:00:01\n",
      "   ------------------------------- -------- 12.3/15.8 MB 7.6 MB/s eta 0:00:01\n",
      "   ------------------------------- -------- 12.6/15.8 MB 7.6 MB/s eta 0:00:01\n",
      "   -------------------------------- ------- 13.0/15.8 MB 7.6 MB/s eta 0:00:01\n",
      "   --------------------------------- ------ 13.4/15.8 MB 7.6 MB/s eta 0:00:01\n",
      "   ---------------------------------- ----- 13.7/15.8 MB 7.6 MB/s eta 0:00:01\n",
      "   ----------------------------------- ---- 14.0/15.8 MB 7.6 MB/s eta 0:00:01\n",
      "   ------------------------------------ --- 14.3/15.8 MB 7.6 MB/s eta 0:00:01\n",
      "   ------------------------------------ --- 14.6/15.8 MB 7.6 MB/s eta 0:00:01\n",
      "   ------------------------------------- -- 14.9/15.8 MB 7.6 MB/s eta 0:00:01\n",
      "   -------------------------------------- - 15.3/15.8 MB 7.6 MB/s eta 0:00:01\n",
      "   ---------------------------------------  15.7/15.8 MB 7.6 MB/s eta 0:00:01\n",
      "   ---------------------------------------  15.8/15.8 MB 7.6 MB/s eta 0:00:01\n",
      "   ---------------------------------------  15.8/15.8 MB 7.6 MB/s eta 0:00:01\n",
      "   ---------------------------------------  15.8/15.8 MB 7.6 MB/s eta 0:00:01\n",
      "   ---------------------------------------  15.8/15.8 MB 7.6 MB/s eta 0:00:01\n",
      "   ---------------------------------------  15.8/15.8 MB 7.6 MB/s eta 0:00:01\n",
      "   ---------------------------------------  15.8/15.8 MB 7.6 MB/s eta 0:00:01\n",
      "   ---------------------------------------  15.8/15.8 MB 7.6 MB/s eta 0:00:01\n",
      "   ---------------------------------------  15.8/15.8 MB 7.6 MB/s eta 0:00:01\n",
      "   ---------------------------------------  15.8/15.8 MB 7.6 MB/s eta 0:00:01\n",
      "   ---------------------------------------  15.8/15.8 MB 7.6 MB/s eta 0:00:01\n",
      "   ---------------------------------------  15.8/15.8 MB 7.6 MB/s eta 0:00:01\n",
      "   ---------------------------------------  15.8/15.8 MB 7.6 MB/s eta 0:00:01\n",
      "   ---------------------------------------  15.8/15.8 MB 7.6 MB/s eta 0:00:01\n",
      "   ---------------------------------------  15.8/15.8 MB 7.6 MB/s eta 0:00:01\n",
      "   ---------------------------------------  15.8/15.8 MB 7.6 MB/s eta 0:00:01\n",
      "   ---------------------------------------  15.8/15.8 MB 7.6 MB/s eta 0:00:01\n",
      "   ---------------------------------------- 15.8/15.8 MB 4.8 MB/s eta 0:00:00\n",
      "Downloading pandas-2.2.0-cp311-cp311-win_amd64.whl (11.6 MB)\n",
      "   ---------------------------------------- 0.0/11.6 MB ? eta -:--:--\n",
      "   - -------------------------------------- 0.3/11.6 MB 7.0 MB/s eta 0:00:02\n",
      "   -- ------------------------------------- 0.6/11.6 MB 8.1 MB/s eta 0:00:02\n",
      "   --- ------------------------------------ 0.9/11.6 MB 7.5 MB/s eta 0:00:02\n",
      "   ---- ----------------------------------- 1.2/11.6 MB 7.1 MB/s eta 0:00:02\n",
      "   ----- ---------------------------------- 1.5/11.6 MB 7.0 MB/s eta 0:00:02\n",
      "   ------ --------------------------------- 1.9/11.6 MB 7.5 MB/s eta 0:00:02\n",
      "   ------- -------------------------------- 2.2/11.6 MB 7.3 MB/s eta 0:00:02\n",
      "   -------- ------------------------------- 2.5/11.6 MB 7.2 MB/s eta 0:00:02\n",
      "   --------- ------------------------------ 2.8/11.6 MB 7.4 MB/s eta 0:00:02\n",
      "   ---------- ----------------------------- 3.1/11.6 MB 7.4 MB/s eta 0:00:02\n",
      "   ----------- ---------------------------- 3.4/11.6 MB 7.3 MB/s eta 0:00:02\n",
      "   ------------- -------------------------- 3.8/11.6 MB 7.5 MB/s eta 0:00:02\n",
      "   -------------- ------------------------- 4.1/11.6 MB 7.5 MB/s eta 0:00:01\n",
      "   --------------- ------------------------ 4.4/11.6 MB 7.5 MB/s eta 0:00:01\n",
      "   ---------------- ----------------------- 4.8/11.6 MB 7.6 MB/s eta 0:00:01\n",
      "   ----------------- ---------------------- 5.1/11.6 MB 7.6 MB/s eta 0:00:01\n",
      "   ------------------ --------------------- 5.4/11.6 MB 7.6 MB/s eta 0:00:01\n",
      "   ------------------- -------------------- 5.7/11.6 MB 7.5 MB/s eta 0:00:01\n",
      "   -------------------- ------------------- 6.0/11.6 MB 7.6 MB/s eta 0:00:01\n",
      "   ---------------------- ----------------- 6.4/11.6 MB 7.6 MB/s eta 0:00:01\n",
      "   ----------------------- ---------------- 6.7/11.6 MB 7.5 MB/s eta 0:00:01\n",
      "   ------------------------ --------------- 7.0/11.6 MB 7.6 MB/s eta 0:00:01\n",
      "   ------------------------- -------------- 7.3/11.6 MB 7.5 MB/s eta 0:00:01\n",
      "   -------------------------- ------------- 7.6/11.6 MB 7.5 MB/s eta 0:00:01\n",
      "   --------------------------- ------------ 7.9/11.6 MB 7.5 MB/s eta 0:00:01\n",
      "   ---------------------------- ----------- 8.2/11.6 MB 7.5 MB/s eta 0:00:01\n",
      "   ----------------------------- ---------- 8.6/11.6 MB 7.5 MB/s eta 0:00:01\n",
      "   ------------------------------ --------- 8.8/11.6 MB 7.4 MB/s eta 0:00:01\n",
      "   ------------------------------- -------- 9.2/11.6 MB 7.5 MB/s eta 0:00:01\n",
      "   -------------------------------- ------- 9.5/11.6 MB 7.5 MB/s eta 0:00:01\n",
      "   --------------------------------- ------ 9.8/11.6 MB 7.5 MB/s eta 0:00:01\n",
      "   ----------------------------------- ---- 10.1/11.6 MB 7.5 MB/s eta 0:00:01\n",
      "   ------------------------------------ --- 10.5/11.6 MB 7.5 MB/s eta 0:00:01\n",
      "   ------------------------------------- -- 10.8/11.6 MB 7.5 MB/s eta 0:00:01\n",
      "   -------------------------------------- - 11.1/11.6 MB 7.6 MB/s eta 0:00:01\n",
      "   -------------------------------------- - 11.1/11.6 MB 7.5 MB/s eta 0:00:01\n",
      "   -------------------------------------- - 11.3/11.6 MB 7.3 MB/s eta 0:00:01\n",
      "   ---------------------------------------  11.6/11.6 MB 7.4 MB/s eta 0:00:01\n",
      "   ---------------------------------------  11.6/11.6 MB 7.4 MB/s eta 0:00:01\n",
      "   ---------------------------------------  11.6/11.6 MB 7.4 MB/s eta 0:00:01\n",
      "   ---------------------------------------  11.6/11.6 MB 7.4 MB/s eta 0:00:01\n",
      "   ---------------------------------------  11.6/11.6 MB 7.4 MB/s eta 0:00:01\n",
      "   ---------------------------------------  11.6/11.6 MB 7.4 MB/s eta 0:00:01\n",
      "   ---------------------------------------  11.6/11.6 MB 7.4 MB/s eta 0:00:01\n",
      "   ---------------------------------------- 11.6/11.6 MB 5.9 MB/s eta 0:00:00\n",
      "Downloading pytz-2023.3.post1-py2.py3-none-any.whl (502 kB)\n",
      "   ---------------------------------------- 0.0/502.5 kB ? eta -:--:--\n",
      "   -------------------- ------------------- 256.0/502.5 kB 7.7 MB/s eta 0:00:01\n",
      "   ---------------------------------------  501.8/502.5 kB 7.8 MB/s eta 0:00:01\n",
      "   ---------------------------------------  501.8/502.5 kB 7.8 MB/s eta 0:00:01\n",
      "   ---------------------------------------  501.8/502.5 kB 7.8 MB/s eta 0:00:01\n",
      "   ---------------------------------------- 502.5/502.5 kB 2.2 MB/s eta 0:00:00\n",
      "Downloading tzdata-2023.4-py2.py3-none-any.whl (346 kB)\n",
      "   ---------------------------------------- 0.0/346.6 kB ? eta -:--:--\n",
      "   ---------------------------------------  337.9/346.6 kB 7.0 MB/s eta 0:00:01\n",
      "   ---------------------------------------  337.9/346.6 kB 7.0 MB/s eta 0:00:01\n",
      "   ---------------------------------------- 346.6/346.6 kB 3.1 MB/s eta 0:00:00\n",
      "Building wheels for collected packages: frozendict, peewee\n",
      "  Building wheel for frozendict (pyproject.toml): started\n",
      "  Building wheel for frozendict (pyproject.toml): finished with status 'done'\n",
      "  Created wheel for frozendict: filename=frozendict-2.4.0-py3-none-any.whl size=15471 sha256=bdc747669acbe1054cad6bfb91b345e3fc9251c66d85df46479a96fad37a0693\n",
      "  Stored in directory: c:\\users\\ninax\\appdata\\local\\pip\\cache\\wheels\\31\\dd\\81\\a814e6f8cde8a1bbc1f088fdc273943371f10478b91a605e14\n",
      "  Building wheel for peewee (pyproject.toml): started\n",
      "  Building wheel for peewee (pyproject.toml): finished with status 'done'\n",
      "  Created wheel for peewee: filename=peewee-3.17.0-py3-none-any.whl size=135766 sha256=1813f541ac31e72928838a5d34e1330d12a9838476cb481f2f44da59d9606c39\n",
      "  Stored in directory: c:\\users\\ninax\\appdata\\local\\pip\\cache\\wheels\\02\\20\\23\\74a10d0cd31f5d41c19b92ddf4c138ceff01b9f4675f19dbf5\n",
      "Successfully built frozendict peewee\n",
      "Installing collected packages: pytz, peewee, multitasking, appdirs, tzdata, numpy, lxml, html5lib, frozendict, pandas, yfinance\n"
     ]
    },
    {
     "name": "stderr",
     "output_type": "stream",
     "text": [
      "ERROR: Could not install packages due to an OSError: [Errno 13] Permission denied: 'C:\\\\Python311\\\\Scripts\\\\pwiz.py'\n",
      "Consider using the `--user` option or check the permissions.\n",
      "\n"
     ]
    }
   ],
   "source": [
    "!pip install yfinanceAnálises diárias\n",
    "Bom dia,\n",
    "Segue abaixo as análises da ação PETR4.SA dos últimos seis meses:\n",
    "Cotação máxima: R$39.96\n",
    "Cotação mínima: R$27.26\n",
    "Cotação atual: R$39.96\n",
    "Atenciosamente,\n",
    "Irina.\n"
   ]
  },
  {
   "cell_type": "code",
   "execution_count": 3,
   "id": "2d99f60f-7e7b-4963-a50f-d42d7df1ac17",
   "metadata": {},
   "outputs": [
    {
     "name": "stdout",
     "output_type": "stream",
     "text": [
      "Collecting yfinance\n",
      "  Using cached yfinance-0.2.36-py2.py3-none-any.whl.metadata (11 kB)\n",
      "Collecting pandas>=1.3.0 (from yfinance)\n",
      "  Using cached pandas-2.2.0-cp311-cp311-win_amd64.whl.metadata (19 kB)\n",
      "Collecting numpy>=1.16.5 (from yfinance)\n",
      "  Using cached numpy-1.26.3-cp311-cp311-win_amd64.whl.metadata (61 kB)\n",
      "Requirement already satisfied: requests>=2.31 in c:\\python311\\lib\\site-packages (from yfinance) (2.31.0)\n",
      "Collecting multitasking>=0.0.7 (from yfinance)\n",
      "  Using cached multitasking-0.0.11-py3-none-any.whl (8.5 kB)\n",
      "Collecting lxml>=4.9.1 (from yfinance)\n",
      "  Using cached lxml-5.1.0-cp311-cp311-win_amd64.whl.metadata (3.6 kB)\n",
      "Collecting appdirs>=1.4.4 (from yfinance)\n",
      "  Using cached appdirs-1.4.4-py2.py3-none-any.whl (9.6 kB)\n",
      "Requirement already satisfied: pytz>=2022.5 in c:\\python311\\lib\\site-packages (from yfinance) (2023.3.post1)\n",
      "Collecting frozendict>=2.3.4 (from yfinance)\n",
      "  Using cached frozendict-2.4.0-py3-none-any.whl\n",
      "Requirement already satisfied: peewee>=3.16.2 in c:\\python311\\lib\\site-packages (from yfinance) (3.17.0)\n",
      "Requirement already satisfied: beautifulsoup4>=4.11.1 in c:\\python311\\lib\\site-packages (from yfinance) (4.12.3)\n",
      "Collecting html5lib>=1.1 (from yfinance)\n",
      "  Using cached html5lib-1.1-py2.py3-none-any.whl (112 kB)\n",
      "Requirement already satisfied: soupsieve>1.2 in c:\\python311\\lib\\site-packages (from beautifulsoup4>=4.11.1->yfinance) (2.5)\n",
      "Requirement already satisfied: six>=1.9 in c:\\python311\\lib\\site-packages (from html5lib>=1.1->yfinance) (1.16.0)\n",
      "Requirement already satisfied: webencodings in c:\\python311\\lib\\site-packages (from html5lib>=1.1->yfinance) (0.5.1)\n",
      "Requirement already satisfied: python-dateutil>=2.8.2 in c:\\python311\\lib\\site-packages (from pandas>=1.3.0->yfinance) (2.8.2)\n",
      "Collecting tzdata>=2022.7 (from pandas>=1.3.0->yfinance)\n",
      "  Using cached tzdata-2023.4-py2.py3-none-any.whl.metadata (1.4 kB)\n",
      "Requirement already satisfied: charset-normalizer<4,>=2 in c:\\python311\\lib\\site-packages (from requests>=2.31->yfinance) (3.3.2)\n",
      "Requirement already satisfied: idna<4,>=2.5 in c:\\python311\\lib\\site-packages (from requests>=2.31->yfinance) (3.6)\n",
      "Requirement already satisfied: urllib3<3,>=1.21.1 in c:\\python311\\lib\\site-packages (from requests>=2.31->yfinance) (2.1.0)\n",
      "Requirement already satisfied: certifi>=2017.4.17 in c:\\python311\\lib\\site-packages (from requests>=2.31->yfinance) (2023.11.17)\n",
      "Using cached yfinance-0.2.36-py2.py3-none-any.whl (72 kB)\n",
      "Using cached lxml-5.1.0-cp311-cp311-win_amd64.whl (3.9 MB)\n",
      "Using cached numpy-1.26.3-cp311-cp311-win_amd64.whl (15.8 MB)\n",
      "Using cached pandas-2.2.0-cp311-cp311-win_amd64.whl (11.6 MB)\n",
      "Using cached tzdata-2023.4-py2.py3-none-any.whl (346 kB)\n",
      "Installing collected packages: multitasking, appdirs, tzdata, numpy, lxml, html5lib, frozendict, pandas, yfinance\n",
      "Successfully installed appdirs-1.4.4 frozendict-2.4.0 html5lib-1.1 lxml-5.1.0 multitasking-0.0.11 numpy-1.26.3 pandas-2.2.0 tzdata-2023.4 yfinance-0.2.36\n"
     ]
    },
    {
     "name": "stderr",
     "output_type": "stream",
     "text": [
      "  WARNING: The script f2py.exe is installed in 'C:\\Users\\ninax\\AppData\\Roaming\\Python\\Python311\\Scripts' which is not on PATH.\n",
      "  Consider adding this directory to PATH or, if you prefer to suppress this warning, use --no-warn-script-location.\n",
      "  WARNING: The script sample.exe is installed in 'C:\\Users\\ninax\\AppData\\Roaming\\Python\\Python311\\Scripts' which is not on PATH.\n",
      "  Consider adding this directory to PATH or, if you prefer to suppress this warning, use --no-warn-script-location.\n"
     ]
    }
   ],
   "source": [
    "!pip install yfinance --user\n"
   ]
  },
  {
   "cell_type": "code",
   "execution_count": 4,
   "id": "abc58d05-c191-4a04-a3e8-0432d1751c62",
   "metadata": {},
   "outputs": [],
   "source": [
    "import yfinance\n"
   ]
  },
  {
   "cell_type": "code",
   "execution_count": 19,
   "id": "8e4a8049-b9d5-4c5a-b18b-fea3b74460c3",
   "metadata": {},
   "outputs": [
    {
     "name": "stderr",
     "output_type": "stream",
     "text": [
      "C:\\Users\\ninax\\AppData\\Roaming\\Python\\Python311\\site-packages\\yfinance\\utils.py:775: FutureWarning: The 'unit' keyword in TimedeltaIndex construction is deprecated and will be removed in a future version. Use pd.to_timedelta instead.\n",
      "  df.index += _pd.TimedeltaIndex(dst_error_hours, 'h')\n"
     ]
    }
   ],
   "source": [
    "# A variável dentro do parentesis pode ser alterada, se criar um input para receber o dado de forma dinâmica\n",
    "dados = yfinance.Ticker(\"PETR4.SA\").history(\"6mo\")"
   ]
  },
  {
   "cell_type": "code",
   "execution_count": 13,
   "id": "3e2843a1-eb40-4a2b-bd54-93dbe2a507ca",
   "metadata": {},
   "outputs": [
    {
     "data": {
      "text/plain": [
       "Date\n",
       "2023-07-26 00:00:00-03:00    28.756805\n",
       "2023-07-27 00:00:00-03:00    27.263306\n",
       "2023-07-28 00:00:00-03:00    27.606533\n",
       "2023-07-31 00:00:00-03:00    28.858847\n",
       "2023-08-01 00:00:00-03:00    28.385750\n",
       "                               ...    \n",
       "2024-01-22 00:00:00-03:00    37.700001\n",
       "2024-01-23 00:00:00-03:00    38.169998\n",
       "2024-01-24 00:00:00-03:00    37.880001\n",
       "2024-01-25 00:00:00-03:00    39.279999\n",
       "2024-01-26 00:00:00-03:00    39.959999\n",
       "Name: Close, Length: 126, dtype: float64"
      ]
     },
     "execution_count": 13,
     "metadata": {},
     "output_type": "execute_result"
    }
   ],
   "source": [
    "#apenas chame a variavel e ela exibira o dado\n",
    "dados.Close"
   ]
  },
  {
   "cell_type": "code",
   "execution_count": 14,
   "id": "3fe23590-8d5e-442d-8ebc-bc88691beffc",
   "metadata": {},
   "outputs": [],
   "source": [
    "fechamento = dados.Close"
   ]
  },
  {
   "cell_type": "code",
   "execution_count": 15,
   "id": "e38e6a8b-a396-44bf-bcbb-4f2063d3d0e6",
   "metadata": {},
   "outputs": [
    {
     "data": {
      "text/plain": [
       "Date\n",
       "2023-07-26 00:00:00-03:00    28.756805\n",
       "2023-07-27 00:00:00-03:00    27.263306\n",
       "2023-07-28 00:00:00-03:00    27.606533\n",
       "2023-07-31 00:00:00-03:00    28.858847\n",
       "2023-08-01 00:00:00-03:00    28.385750\n",
       "                               ...    \n",
       "2024-01-22 00:00:00-03:00    37.700001\n",
       "2024-01-23 00:00:00-03:00    38.169998\n",
       "2024-01-24 00:00:00-03:00    37.880001\n",
       "2024-01-25 00:00:00-03:00    39.279999\n",
       "2024-01-26 00:00:00-03:00    39.959999\n",
       "Name: Close, Length: 126, dtype: float64"
      ]
     },
     "execution_count": 15,
     "metadata": {},
     "output_type": "execute_result"
    }
   ],
   "source": [
    "fechamento"
   ]
  },
  {
   "cell_type": "code",
   "execution_count": 17,
   "id": "cf4efb0b-f7f3-4609-af8a-1e6955c36ca8",
   "metadata": {},
   "outputs": [
    {
     "name": "stdin",
     "output_type": "stream",
     "text": [
      "Digite o código da ação desejada:  PETR4.SA\n"
     ]
    },
    {
     "name": "stderr",
     "output_type": "stream",
     "text": [
      "C:\\Users\\ninax\\AppData\\Roaming\\Python\\Python311\\site-packages\\yfinance\\utils.py:775: FutureWarning: The 'unit' keyword in TimedeltaIndex construction is deprecated and will be removed in a future version. Use pd.to_timedelta instead.\n",
      "  df.index += _pd.TimedeltaIndex(dst_error_hours, 'h')\n"
     ]
    },
    {
     "data": {
      "text/plain": [
       "Date\n",
       "2023-07-26 00:00:00-03:00    28.756805\n",
       "2023-07-27 00:00:00-03:00    27.263308\n",
       "2023-07-28 00:00:00-03:00    27.606533\n",
       "2023-07-31 00:00:00-03:00    28.858847\n",
       "2023-08-01 00:00:00-03:00    28.385752\n",
       "                               ...    \n",
       "2024-01-22 00:00:00-03:00    37.700001\n",
       "2024-01-23 00:00:00-03:00    38.169998\n",
       "2024-01-24 00:00:00-03:00    37.880001\n",
       "2024-01-25 00:00:00-03:00    39.279999\n",
       "2024-01-26 00:00:00-03:00    39.959999\n",
       "Name: Close, Length: 126, dtype: float64"
      ]
     },
     "execution_count": 17,
     "metadata": {},
     "output_type": "execute_result"
    }
   ],
   "source": [
    "codigo = input(\"Digite o código da ação desejada: \")\n",
    "dados = yfinance.Ticker(\"PETR4.SA\").history(\"6mo\") #observe o erro, que não passamos a variável que recebe o valor do input dentro do parentesis.\n",
    "fechamento = dados.Close\n",
    "fechamento"
   ]
  },
  {
   "cell_type": "code",
   "execution_count": 20,
   "id": "05d2dd7e-0cba-4b0e-9af3-de281bb70644",
   "metadata": {},
   "outputs": [
    {
     "name": "stdin",
     "output_type": "stream",
     "text": [
      "Digite o código da ação desejada:  BBAS3.SA\n"
     ]
    },
    {
     "name": "stderr",
     "output_type": "stream",
     "text": [
      "C:\\Users\\ninax\\AppData\\Roaming\\Python\\Python311\\site-packages\\yfinance\\utils.py:775: FutureWarning: The 'unit' keyword in TimedeltaIndex construction is deprecated and will be removed in a future version. Use pd.to_timedelta instead.\n",
      "  df.index += _pd.TimedeltaIndex(dst_error_hours, 'h')\n"
     ]
    },
    {
     "data": {
      "text/plain": [
       "Date\n",
       "2023-07-26 00:00:00-03:00    46.331779\n",
       "2023-07-27 00:00:00-03:00    45.380291\n",
       "2023-07-28 00:00:00-03:00    45.904583\n",
       "2023-07-31 00:00:00-03:00    46.788109\n",
       "2023-08-01 00:00:00-03:00    45.982254\n",
       "                               ...    \n",
       "2024-01-22 00:00:00-03:00    55.549999\n",
       "2024-01-23 00:00:00-03:00    56.540001\n",
       "2024-01-24 00:00:00-03:00    56.650002\n",
       "2024-01-25 00:00:00-03:00    56.580002\n",
       "2024-01-26 00:00:00-03:00    56.970001\n",
       "Name: Close, Length: 126, dtype: float64"
      ]
     },
     "execution_count": 20,
     "metadata": {},
     "output_type": "execute_result"
    }
   ],
   "source": [
    "#Agora corrigindo o erro e passando a variavel do input para dentro do parentesis\n",
    "codigo = input(\"Digite o código da ação desejada: \")\n",
    "dados = yfinance.Ticker(codigo).history(\"6mo\")\n",
    "fechamento = dados.Close\n",
    "fechamento"
   ]
  },
  {
   "cell_type": "markdown",
   "id": "c389ae33-420c-4252-bc17-45c3553e92cb",
   "metadata": {},
   "source": [
    "### Passo 2 - Gerar as análises automáticas\n",
    "- Análise dos últimos 6 meses\n",
    "- Cotação máxima do período\n",
    "- Cotação mínima do período\n",
    "- Cotação atual do dia"
   ]
  },
  {
   "cell_type": "code",
   "execution_count": 30,
   "id": "b0c89e11-1814-47d4-b292-52c306ff4dc2",
   "metadata": {},
   "outputs": [
    {
     "data": {
      "text/plain": [
       "56.970001220703125"
      ]
     },
     "execution_count": 30,
     "metadata": {},
     "output_type": "execute_result"
    }
   ],
   "source": [
    "fechamento.max() #pega o maior valor da coluna"
   ]
  },
  {
   "cell_type": "code",
   "execution_count": 28,
   "id": "f3e7d002-4a65-4d5a-a2c0-6a91ba45fdd0",
   "metadata": {},
   "outputs": [],
   "source": [
    "maxima = fechamento.max() #salvando o dado dentro de uma variavel"
   ]
  },
  {
   "cell_type": "code",
   "execution_count": 29,
   "id": "68065490-dc90-4ebb-b156-16c309798789",
   "metadata": {},
   "outputs": [
    {
     "data": {
      "text/plain": [
       "45.37057876586914"
      ]
     },
     "execution_count": 29,
     "metadata": {},
     "output_type": "execute_result"
    }
   ],
   "source": [
    "fechamento.min() #pega o menor valor da tabela/coluna"
   ]
  },
  {
   "cell_type": "code",
   "execution_count": 24,
   "id": "1c0e8d46-fcfd-45ce-9574-c6ddf2d68317",
   "metadata": {},
   "outputs": [],
   "source": [
    "minima = fechamento.min()"
   ]
  },
  {
   "cell_type": "markdown",
   "id": "cb75031c-a9e9-4045-8531-b9c00399cb67",
   "metadata": {},
   "source": [
    "Para acessar a primeira linha de uma tabela, ou seu dado mais antigo/inicial, usa-se o índice 0. \n",
    "O primeiro item em python sempre começa com o índice 0. O segundo item sera indice 1, e assim por dianta\n",
    "Para pegar o último item, qdo é uma tabela que vc não sabe o valor do índice final, vc pode usar o -1, que pega o último item. -2 pega o penúltimo item\n",
    "e assim por diante\n",
    "Para acessar o índice, sempre deve chamar dentro de um colchete []"
   ]
  },
  {
   "cell_type": "code",
   "execution_count": 25,
   "id": "69a76352-f7d1-4248-86c1-e632a88159f5",
   "metadata": {},
   "outputs": [
    {
     "name": "stderr",
     "output_type": "stream",
     "text": [
      "C:\\Users\\ninax\\AppData\\Local\\Temp\\ipykernel_8068\\1429930796.py:1: FutureWarning: Series.__getitem__ treating keys as positions is deprecated. In a future version, integer keys will always be treated as labels (consistent with DataFrame behavior). To access a value by position, use `ser.iloc[pos]`\n",
      "  fechamento[0]\n"
     ]
    },
    {
     "data": {
      "text/plain": [
       "46.33177947998047"
      ]
     },
     "execution_count": 25,
     "metadata": {},
     "output_type": "execute_result"
    }
   ],
   "source": [
    "fechamento[0]"
   ]
  },
  {
   "cell_type": "code",
   "execution_count": 26,
   "id": "11c82e71-89db-4628-81e7-fca585804952",
   "metadata": {},
   "outputs": [
    {
     "name": "stderr",
     "output_type": "stream",
     "text": [
      "C:\\Users\\ninax\\AppData\\Local\\Temp\\ipykernel_8068\\1658159941.py:1: FutureWarning: Series.__getitem__ treating keys as positions is deprecated. In a future version, integer keys will always be treated as labels (consistent with DataFrame behavior). To access a value by position, use `ser.iloc[pos]`\n",
      "  fechamento[-1]\n"
     ]
    },
    {
     "data": {
      "text/plain": [
       "56.970001220703125"
      ]
     },
     "execution_count": 26,
     "metadata": {},
     "output_type": "execute_result"
    }
   ],
   "source": [
    "fechamento[-1]"
   ]
  },
  {
   "cell_type": "code",
   "execution_count": 32,
   "id": "cfc32b59-8e26-4b68-bc1e-27ca09218687",
   "metadata": {},
   "outputs": [
    {
     "name": "stderr",
     "output_type": "stream",
     "text": [
      "C:\\Users\\ninax\\AppData\\Local\\Temp\\ipykernel_8068\\2023722537.py:1: FutureWarning: Series.__getitem__ treating keys as positions is deprecated. In a future version, integer keys will always be treated as labels (consistent with DataFrame behavior). To access a value by position, use `ser.iloc[pos]`\n",
      "  atual = fechamento [-1] #pega o último item da lista\n"
     ]
    }
   ],
   "source": [
    "atual = fechamento [-1] #pega o último item da lista"
   ]
  },
  {
   "cell_type": "code",
   "execution_count": 33,
   "id": "044c02cb-8106-4de8-9223-32a08a5f1d87",
   "metadata": {},
   "outputs": [
    {
     "name": "stderr",
     "output_type": "stream",
     "text": [
      "C:\\Users\\ninax\\AppData\\Local\\Temp\\ipykernel_8068\\2342394502.py:3: FutureWarning: Series.__getitem__ treating keys as positions is deprecated. In a future version, integer keys will always be treated as labels (consistent with DataFrame behavior). To access a value by position, use `ser.iloc[pos]`\n",
      "  atual = fechamento[-1]\n"
     ]
    }
   ],
   "source": [
    "maxima = fechamento.max()\n",
    "minima = fechamento.min()\n",
    "atual = fechamento[-1]"
   ]
  },
  {
   "cell_type": "code",
   "execution_count": 34,
   "id": "f4392684-f5df-4923-80c6-f3b745d43653",
   "metadata": {},
   "outputs": [
    {
     "name": "stdout",
     "output_type": "stream",
     "text": [
      "56.970001220703125\n",
      "45.37057876586914\n",
      "56.970001220703125\n"
     ]
    }
   ],
   "source": [
    "print(maxima)\n",
    "print(minima)\n",
    "print(atual)"
   ]
  },
  {
   "cell_type": "markdown",
   "id": "c02fb6ba-a2d9-4fe1-bc99-4df62cfc8d48",
   "metadata": {},
   "source": [
    "### Passo 3 -Enviar um email para o gestor\n",
    "- abrir uma nova aba no navegador(ctrl + t)\r\n",
    "- digitar o endereço do gmail e dar um enter\r\n",
    "- clicar no botão escrever\r\n",
    "- colocar e-mail do destinatário (tab)\r\n",
    "- colocar assnto (\n",
    "- corpo da mensagemtab)\r\n",
    "- clicar no botão enviar"
   ]
  },
  {
   "cell_type": "code",
   "execution_count": 35,
   "id": "ecc5568a-1ba4-4fbc-8b95-620477d6dc4f",
   "metadata": {},
   "outputs": [
    {
     "name": "stdout",
     "output_type": "stream",
     "text": [
      "Collecting pyautogui\n",
      "  Downloading PyAutoGUI-0.9.54.tar.gz (61 kB)\n",
      "     ---------------------------------------- 0.0/61.2 kB ? eta -:--:--\n",
      "     --------------------------------- ------ 51.2/61.2 kB 2.6 MB/s eta 0:00:01\n",
      "     --------------------------------- ------ 51.2/61.2 kB 2.6 MB/s eta 0:00:01\n",
      "     -------------------------------------- 61.2/61.2 kB 542.5 kB/s eta 0:00:00\n",
      "  Installing build dependencies: started\n",
      "  Installing build dependencies: finished with status 'done'\n",
      "  Getting requirements to build wheel: started\n",
      "  Getting requirements to build wheel: finished with status 'done'\n",
      "  Preparing metadata (pyproject.toml): started\n",
      "  Preparing metadata (pyproject.toml): finished with status 'done'\n",
      "Collecting pymsgbox (from pyautogui)\n",
      "  Downloading PyMsgBox-1.0.9.tar.gz (18 kB)\n",
      "  Installing build dependencies: started\n",
      "  Installing build dependencies: finished with status 'done'\n",
      "  Getting requirements to build wheel: started\n",
      "  Getting requirements to build wheel: finished with status 'done'\n",
      "  Preparing metadata (pyproject.toml): started\n",
      "  Preparing metadata (pyproject.toml): finished with status 'done'\n",
      "Collecting pytweening>=1.0.4 (from pyautogui)\n",
      "  Downloading pytweening-1.0.7.tar.gz (168 kB)\n",
      "     ---------------------------------------- 0.0/168.2 kB ? eta -:--:--\n",
      "     -------------------------------------  163.8/168.2 kB 5.0 MB/s eta 0:00:01\n",
      "     -------------------------------------  163.8/168.2 kB 5.0 MB/s eta 0:00:01\n",
      "     -------------------------------------- 168.2/168.2 kB 1.7 MB/s eta 0:00:00\n",
      "  Installing build dependencies: started\n",
      "  Installing build dependencies: finished with status 'done'\n",
      "  Getting requirements to build wheel: started\n",
      "  Getting requirements to build wheel: finished with status 'done'\n",
      "  Preparing metadata (pyproject.toml): started\n",
      "  Preparing metadata (pyproject.toml): finished with status 'done'\n",
      "Collecting pyscreeze>=0.1.21 (from pyautogui)\n",
      "  Downloading PyScreeze-0.1.30.tar.gz (27 kB)\n",
      "  Installing build dependencies: started\n",
      "  Installing build dependencies: finished with status 'done'\n",
      "  Getting requirements to build wheel: started\n",
      "  Getting requirements to build wheel: finished with status 'done'\n",
      "  Preparing metadata (pyproject.toml): started\n",
      "  Preparing metadata (pyproject.toml): finished with status 'done'\n",
      "Collecting pygetwindow>=0.0.5 (from pyautogui)\n",
      "  Downloading PyGetWindow-0.0.9.tar.gz (9.7 kB)\n",
      "  Installing build dependencies: started\n",
      "  Installing build dependencies: finished with status 'done'\n",
      "  Getting requirements to build wheel: started\n",
      "  Getting requirements to build wheel: finished with status 'done'\n",
      "  Preparing metadata (pyproject.toml): started\n",
      "  Preparing metadata (pyproject.toml): finished with status 'done'\n",
      "Collecting mouseinfo (from pyautogui)\n",
      "  Downloading MouseInfo-0.1.3.tar.gz (10 kB)\n",
      "  Installing build dependencies: started\n",
      "  Installing build dependencies: finished with status 'done'\n",
      "  Getting requirements to build wheel: started\n",
      "  Getting requirements to build wheel: finished with status 'done'\n",
      "  Preparing metadata (pyproject.toml): started\n",
      "  Preparing metadata (pyproject.toml): finished with status 'done'\n",
      "Collecting pyrect (from pygetwindow>=0.0.5->pyautogui)\n",
      "  Downloading PyRect-0.2.0.tar.gz (17 kB)\n",
      "  Installing build dependencies: started\n",
      "  Installing build dependencies: finished with status 'done'\n",
      "  Getting requirements to build wheel: started\n",
      "  Getting requirements to build wheel: finished with status 'done'\n",
      "  Preparing metadata (pyproject.toml): started\n",
      "  Preparing metadata (pyproject.toml): finished with status 'done'\n",
      "Collecting Pillow>=9.3.0 (from pyscreeze>=0.1.21->pyautogui)\n",
      "  Downloading pillow-10.2.0-cp311-cp311-win_amd64.whl.metadata (9.9 kB)\n",
      "Collecting pyperclip (from mouseinfo->pyautogui)\n",
      "  Downloading pyperclip-1.8.2.tar.gz (20 kB)\n",
      "  Installing build dependencies: started\n",
      "  Installing build dependencies: finished with status 'done'\n",
      "  Getting requirements to build wheel: started\n",
      "  Getting requirements to build wheel: finished with status 'done'\n",
      "  Preparing metadata (pyproject.toml): started\n",
      "  Preparing metadata (pyproject.toml): finished with status 'done'\n",
      "Downloading pillow-10.2.0-cp311-cp311-win_amd64.whl (2.6 MB)\n",
      "   ---------------------------------------- 0.0/2.6 MB ? eta -:--:--\n",
      "   -- ------------------------------------- 0.2/2.6 MB 3.1 MB/s eta 0:00:01\n",
      "   ------- -------------------------------- 0.5/2.6 MB 4.8 MB/s eta 0:00:01\n",
      "   -------------- ------------------------- 0.9/2.6 MB 5.4 MB/s eta 0:00:01\n",
      "   ---------------------- ----------------- 1.5/2.6 MB 5.9 MB/s eta 0:00:01\n",
      "   ---------------------------- ----------- 1.9/2.6 MB 6.3 MB/s eta 0:00:01\n",
      "   -------------------------------- ------- 2.2/2.6 MB 6.3 MB/s eta 0:00:01\n",
      "   ---------------------------------------  2.6/2.6 MB 6.4 MB/s eta 0:00:01\n",
      "   ---------------------------------------  2.6/2.6 MB 6.4 MB/s eta 0:00:01\n",
      "   ---------------------------------------  2.6/2.6 MB 6.4 MB/s eta 0:00:01\n",
      "   ---------------------------------------  2.6/2.6 MB 6.4 MB/s eta 0:00:01\n",
      "   ---------------------------------------- 2.6/2.6 MB 4.4 MB/s eta 0:00:00\n",
      "Building wheels for collected packages: pyautogui, pygetwindow, pyscreeze, pytweening, mouseinfo, pymsgbox, pyperclip, pyrect\n",
      "  Building wheel for pyautogui (pyproject.toml): started\n",
      "  Building wheel for pyautogui (pyproject.toml): finished with status 'done'\n",
      "  Created wheel for pyautogui: filename=PyAutoGUI-0.9.54-py3-none-any.whl size=37597 sha256=2964abd1f2f034a6ff707917a4c62834b7686c9744637e439aeae45abbdea452\n",
      "  Stored in directory: c:\\users\\ninax\\appdata\\local\\pip\\cache\\wheels\\95\\dc\\b1\\fe122b791e0db8bf439a0e6e1d2628e48f10bf430cae13521b\n",
      "  Building wheel for pygetwindow (pyproject.toml): started\n",
      "  Building wheel for pygetwindow (pyproject.toml): finished with status 'done'\n",
      "  Created wheel for pygetwindow: filename=PyGetWindow-0.0.9-py3-none-any.whl size=11080 sha256=e79721e6b2e87b31c336e7eba1d6c4e7bab48dce88f00ef79dbacb9c5486b3de\n",
      "  Stored in directory: c:\\users\\ninax\\appdata\\local\\pip\\cache\\wheels\\07\\75\\0b\\7ca0b598eb4c21d43ba4bcc78a0538dfcf803a5997da33bc19\n",
      "  Building wheel for pyscreeze (pyproject.toml): started\n",
      "  Building wheel for pyscreeze (pyproject.toml): finished with status 'done'\n",
      "  Created wheel for pyscreeze: filename=PyScreeze-0.1.30-py3-none-any.whl size=14400 sha256=f25ecb245e3032c57ff18ca57426b8d20d1c950cb75df041a4cfeaa62dae10df\n",
      "  Stored in directory: c:\\users\\ninax\\appdata\\local\\pip\\cache\\wheels\\df\\bc\\15\\d685ca085ca4b11e46e54cc3da4e501a98856c7fea8f604500\n",
      "  Building wheel for pytweening (pyproject.toml): started\n",
      "  Building wheel for pytweening (pyproject.toml): finished with status 'done'\n",
      "  Created wheel for pytweening: filename=pytweening-1.0.7-py3-none-any.whl size=6214 sha256=e05a39bcb9581796134dd271e44ef58b7a3174dae0077b594e841a6f8fa53444\n",
      "  Stored in directory: c:\\users\\ninax\\appdata\\local\\pip\\cache\\wheels\\b2\\9b\\02\\059beba389e7e31a635bd9e8d9b7299f4ec11caca1f237f56d\n",
      "  Building wheel for mouseinfo (pyproject.toml): started\n",
      "  Building wheel for mouseinfo (pyproject.toml): finished with status 'done'\n",
      "  Created wheel for mouseinfo: filename=MouseInfo-0.1.3-py3-none-any.whl size=10904 sha256=c93eb99406bc99c22a09c27d85d62af0fff7b5e24b33779535d66f00afa81bc6\n",
      "  Stored in directory: c:\\users\\ninax\\appdata\\local\\pip\\cache\\wheels\\20\\0b\\7f\\939ac9ff785b09951c706150537572c00123412f260a6024f3\n",
      "  Building wheel for pymsgbox (pyproject.toml): started\n",
      "  Building wheel for pymsgbox (pyproject.toml): finished with status 'done'\n",
      "  Created wheel for pymsgbox: filename=PyMsgBox-1.0.9-py3-none-any.whl size=7416 sha256=8d946ff2ce656f01ae9a5d138e657014848ae8ed2b65a76f8ded068bf603fc2f\n",
      "  Stored in directory: c:\\users\\ninax\\appdata\\local\\pip\\cache\\wheels\\85\\92\\63\\e126ee5f33d8f2ed04f96e43ef5df7270a2f331848752e8662\n",
      "  Building wheel for pyperclip (pyproject.toml): started\n",
      "  Building wheel for pyperclip (pyproject.toml): finished with status 'done'\n",
      "  Created wheel for pyperclip: filename=pyperclip-1.8.2-py3-none-any.whl size=11136 sha256=c9d051e5ebca360bc37715237544f7e96a3cd3ca77bc508e5eff7356bb73d5ca\n",
      "  Stored in directory: c:\\users\\ninax\\appdata\\local\\pip\\cache\\wheels\\70\\bd\\ba\\8ae5c080c895c9360fe6e153acda2dee82527374467eae061b\n",
      "  Building wheel for pyrect (pyproject.toml): started\n",
      "  Building wheel for pyrect (pyproject.toml): finished with status 'done'\n",
      "  Created wheel for pyrect: filename=PyRect-0.2.0-py2.py3-none-any.whl size=11205 sha256=bc8d91bf3aced4a88cb88812e5d7d0738924af441ec370509b96a75f8d6e3706\n",
      "  Stored in directory: c:\\users\\ninax\\appdata\\local\\pip\\cache\\wheels\\c4\\e9\\fc\\b7a666dd4f9a3168fb44d643079b41d36ddab52f470707e820\n",
      "Successfully built pyautogui pygetwindow pyscreeze pytweening mouseinfo pymsgbox pyperclip pyrect\n",
      "Installing collected packages: pytweening, pyrect, pyperclip, pymsgbox, pygetwindow, Pillow, mouseinfo, pyscreeze, pyautogui\n",
      "Successfully installed Pillow-10.2.0 mouseinfo-0.1.3 pyautogui-0.9.54 pygetwindow-0.0.9 pymsgbox-1.0.9 pyperclip-1.8.2 pyrect-0.2.0 pyscreeze-0.1.30 pytweening-1.0.7\n"
     ]
    }
   ],
   "source": [
    "!pip install pyautogui"
   ]
  },
  {
   "cell_type": "code",
   "execution_count": 36,
   "id": "518bdccd-b2ff-4099-9a60-cf960b618713",
   "metadata": {},
   "outputs": [],
   "source": [
    "import pyautogui\n",
    "import pyperclip"
   ]
  },
  {
   "cell_type": "code",
   "execution_count": 60,
   "id": "755cdd4e-7136-4f13-9786-5b1b44bac2cf",
   "metadata": {},
   "outputs": [],
   "source": [
    "#dar uma pausa pra cada comando\n",
    "pyautogui.PAUSE = 5\n",
    "\n",
    "# Abrir uma nova aba no navegador\n",
    "pyautogui.hotkey(\"control\", \"t\")\n",
    "\n",
    "# Digitar o endereço de email e dar enter\n",
    "pyperclip.copy(\"www.gmail.com\")\n",
    "pyautogui.hotkey(\"ctrl\", \"v\")\n",
    "pyautogui.press(\"enter\")\n",
    "\n",
    "# Clicar no botão escrever - Coordenada obtida com os dados da célula abaixo!!!!\n",
    "pyautogui.click(x=102, y=216)\n",
    "\n",
    "# Colocar e-mail do destinatário (tab)\n",
    "pyperclip.copy(\"iriferreiravet@gmail.com\")\n",
    "pyautogui.hotkey(\"ctrl\", \"v\")\n",
    "pyautogui.press(\"tab\")\n",
    "\n",
    "# Colocar assunto (tab)\n",
    "pyperclip.copy(\"Análises diárias\")\n",
    "pyautogui.hotkey(\"ctrl\", \"v\")\n",
    "pyautogui.press(\"tab\")\n",
    "\n",
    "#para escrever uma mensagem com identação, utilize 3 \" (\"\"\") que o python entende que um texto formatado deve ser inserido\n",
    "# Corpo da mensagem\n",
    "mensagem = f\"\"\"\n",
    "Bom dia,\n",
    "Segue abaixo as análises da ação {codigo} dos últimos seis meses:\n",
    "Cotação máxima: R${round(maxima,2)}\n",
    "Cotação mínima: R${round(minima,2)}\n",
    "Cotação atual: R${round(atual,2)}\n",
    "Atenciosamente,\n",
    "Irina.\n",
    "\"\"\"\n",
    "pyperclip.copy(mensagem)\n",
    "pyautogui.hotkey(\"ctrl\", \"v\")\n",
    "\n",
    "# Clicando em enviar\n",
    "pyautogui.click(x=787, y=693)\n"
   ]
  },
  {
   "cell_type": "code",
   "execution_count": 54,
   "id": "faf7735e-3427-4146-a41c-d2e23573adb7",
   "metadata": {},
   "outputs": [
    {
     "data": {
      "text/plain": [
       "Point(x=787, y=693)"
      ]
     },
     "execution_count": 54,
     "metadata": {},
     "output_type": "execute_result"
    }
   ],
   "source": [
    "#para obter a posição ou coordenada de algo numa tela, usa o comando position\n",
    "#para dar tempo de vc executar o comando e acessar a respectiva aba e local, pode usar o 'time' que vai esperar o tempo indicado antes de rodar o comando\n",
    "#PAUSE => tempo de espera entre cada comando, vai ser sempre repetido entre cada linha\n",
    "#time => tempo único, de espera entre um comando especifico\n",
    "import time\n",
    "\n",
    "time.sleep(5)\n",
    "pyautogui.position()"
   ]
  },
  {
   "cell_type": "code",
   "execution_count": 63,
   "id": "ed9cc726-1a89-4136-80c5-849f0df4ce04",
   "metadata": {},
   "outputs": [
    {
     "name": "stdin",
     "output_type": "stream",
     "text": [
      "Digite o código da ação desejada:  PETR4.SA\n"
     ]
    },
    {
     "name": "stderr",
     "output_type": "stream",
     "text": [
      "C:\\Users\\ninax\\AppData\\Roaming\\Python\\Python311\\site-packages\\yfinance\\utils.py:775: FutureWarning: The 'unit' keyword in TimedeltaIndex construction is deprecated and will be removed in a future version. Use pd.to_timedelta instead.\n",
      "  df.index += _pd.TimedeltaIndex(dst_error_hours, 'h')\n",
      "C:\\Users\\ninax\\AppData\\Local\\Temp\\ipykernel_8068\\3802891397.py:8: FutureWarning: Series.__getitem__ treating keys as positions is deprecated. In a future version, integer keys will always be treated as labels (consistent with DataFrame behavior). To access a value by position, use `ser.iloc[pos]`\n",
      "  atual = fechamento[-1]\n"
     ]
    }
   ],
   "source": [
    "codigo = input(\"Digite o código da ação desejada: \")\n",
    "dados = yfinance.Ticker(codigo).history(\"6mo\")\n",
    "fechamento = dados.Close\n",
    "fechamento\n",
    "\n",
    "maxima = fechamento.max()\n",
    "minima = fechamento.min()\n",
    "atual = fechamento[-1]"
   ]
  },
  {
   "cell_type": "code",
   "execution_count": 65,
   "id": "e3be56ec-cce2-453d-a229-9b006909ab22",
   "metadata": {},
   "outputs": [],
   "source": [
    "#dar uma pausa pra cada comando\n",
    "pyautogui.PAUSE = 5\n",
    "\n",
    "# Abrir uma nova aba no navegador\n",
    "pyautogui.hotkey(\"control\", \"t\")\n",
    "\n",
    "# Digitar o endereço de email e dar enter\n",
    "pyperclip.copy(\"www.gmail.com\")\n",
    "pyautogui.hotkey(\"ctrl\", \"v\")\n",
    "pyautogui.press(\"enter\")\n",
    "\n",
    "# Clicar no botão escrever - Coordenada obtida com os dados da célula abaixo!!!!\n",
    "pyautogui.click(x=102, y=216)\n",
    "\n",
    "# Colocar e-mail do destinatário (tab)\n",
    "pyperclip.copy(\"iriferreiravet@gmail.com\")\n",
    "pyautogui.hotkey(\"ctrl\", \"v\")\n",
    "pyautogui.press(\"tab\")\n",
    "\n",
    "# Colocar assunto (tab)\n",
    "pyperclip.copy(\"Análises diárias\")\n",
    "pyautogui.hotkey(\"ctrl\", \"v\")\n",
    "pyautogui.press(\"tab\")\n",
    "\n",
    "#para escrever uma mensagem com identação, utilize 3 \" (\"\"\") que o python entende que um texto formatado deve ser inserido\n",
    "# Corpo da mensagem\n",
    "mensagem = f\"\"\"\n",
    "Bom dia,\n",
    "Segue abaixo as análises da ação {codigo} dos últimos seis meses:\n",
    "Cotação máxima: R${round(maxima,2)}\n",
    "Cotação mínima: R${round(minima,2)}\n",
    "Cotação atual: R${round(atual,2)}\n",
    "Atenciosamente,\n",
    "Irina.\n",
    "\"\"\"\n",
    "pyperclip.copy(mensagem)\n",
    "pyautogui.hotkey(\"ctrl\", \"v\")\n",
    "\n",
    "# Clicando em enviar\n",
    "pyautogui.click(x=787, y=693)"
   ]
  },
  {
   "cell_type": "code",
   "execution_count": null,
   "id": "74c7b0fd-cc8d-4e9c-a802-27b8a83d55da",
   "metadata": {},
   "outputs": [],
   "source": []
  },
  {
   "cell_type": "markdown",
   "id": "3e636b4e-dfda-44d0-ab1c-5ed47b242fba",
   "metadata": {},
   "source": [
    "#### Resumos\n",
    "- Passo 1:\n",
    "    codigo = input(\"Digite o código da ação desejada: \")\n",
    "    dados = yfinance.Ticker(codigo).history(\"6mo\")\n",
    "    fechamento = dados.Close\n",
    "    fechamento\n",
    "- Passo 2:\n",
    "    maxima = fechamento.max()\n",
    "    minima = fechamento.min()\n",
    "    atual = fechamento[-1]"
   ]
  }
 ],
 "metadata": {
  "kernelspec": {
   "display_name": "Python 3 (ipykernel)",
   "language": "python",
   "name": "python3"
  },
  "language_info": {
   "codemirror_mode": {
    "name": "ipython",
    "version": 3
   },
   "file_extension": ".py",
   "mimetype": "text/x-python",
   "name": "python",
   "nbconvert_exporter": "python",
   "pygments_lexer": "ipython3",
   "version": "3.11.4"
  }
 },
 "nbformat": 4,
 "nbformat_minor": 5
}
